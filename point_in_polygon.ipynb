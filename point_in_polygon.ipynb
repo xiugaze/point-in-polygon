{
 "cells": [
  {
   "cell_type": "markdown",
   "id": "36c09911-4f29-4bb4-a230-75ce11b9902d",
   "metadata": {},
   "source": [
    "# Point in Polygon\n",
    "## Damien Allison, Drew Mattson, Caleb Andreano\n",
    "\n",
    "### Computational Problem:\n",
    "Given a series of two-dimensional points whose composition creates a simple polygon, determine if a distinct point is within the polygon.\n",
    "\n",
    "### Decision Rule:\n",
    "<Placeholder: A one-paragraph description of a \"decision rule\" that can be applied to solve the problem.>\n",
    "<Placeholder: Provide at least two examples illustrating how the rule is applied>\n",
    "\n",
    "### Pseudocode:\n",
    "<Placeholder: High-level pseudocode for an algorithm that uses your rule to solve the computational problem for all inputs>\n",
    "\n",
    "### Justification:\n",
    "<Placeholder: A 1-3 paragraph justification of why your algorithm is correct.>"
   ]
  },
  {
   "cell_type": "code",
   "execution_count": 22,
   "outputs": [],
   "source": [
    "def plot(poly, point):\n",
    "    x, y = point\n",
    "    fig, ax = plt.subplots()\n",
    "    ax.set_xlim(min(poly, key=lambda p: p[0])[0] - 1, max(poly, key=lambda p: p[0])[0] + 1)\n",
    "    ax.set_ylim(min(poly, key=lambda p: p[1])[1] - 1, max(poly, key=lambda p: p[1])[1] + 1)\n",
    "    ax.add_patch(Polygon(poly, closed=True, fill=False, color='g', linewidth=2))\n",
    "    plt.plot(x, y, 'ro', label=f'{x}, {y}')\n",
    "    plt.xlabel('X')\n",
    "    plt.ylabel('Y')\n",
    "    plt.title(f'Polygon with point ({x}, {y})')\n",
    "    plt.legend()\n",
    "    plt.grid(True)\n",
    "    plt.show()"
   ],
   "metadata": {
    "collapsed": false,
    "ExecuteTime": {
     "end_time": "2024-02-11T05:09:15.543645200Z",
     "start_time": "2024-02-11T05:09:15.526646300Z"
    }
   },
   "id": "8b4254ff484a103"
  },
  {
   "cell_type": "code",
   "execution_count": 27,
   "outputs": [],
   "source": [
    "import math\n",
    "\n",
    "\n",
    "# The intersection function returns the point of intersection between the\n",
    "# line that is made from p1 and p0 and the horizontal line y.\n",
    "def intersection(p1, p0, y):\n",
    "    return math.nan \\\n",
    "        if p1[1] - p0[1] == 0 \\\n",
    "        else -(y * (p1[0] - p0[0]) - p0[1] * (p1[0] - p0[0]) - p0[0] * (p1[1] - p0[1])) / (p1[1] - p0[1])\n",
    "\n",
    "# The in_bounds function returns true if the x value of the intersection is\n",
    "# within the min and max bounds.\n",
    "def in_bounds(min_x, intersect_x, max_x):\n",
    "    return not math.isnan(intersect_x) and min_x <= intersect_x <= max_x\n",
    "\n",
    "\n",
    "# The inside function determines if a point is inside a polygon made of other points.\n",
    "def in_polygon(points, target):\n",
    "    count = 1 if points[0][1] == target[1] else 0\n",
    "    max_x = points[0][0]\n",
    "    # Finds the bounds that the intersections must be made in.\n",
    "    for p in points:\n",
    "        max_x = p[0] if max_x < p[0] else max_x\n",
    "        count = count + 1 if p[1] == target[1] else count\n",
    "    # min_x is the x value of the target point.\n",
    "\n",
    "    # A point is within the polygon if the number of intersections\n",
    "    # within the bounds is an odd number. This is accomplished by a\n",
    "    # series of function calls.\n",
    "\n",
    "    # The filter function will remove all points that do not have\n",
    "    # intersections within the bounds. The filter function also returns\n",
    "    # an iterator which must be converted into a list before the remaining\n",
    "    # elements can be counted. If the length is odd, then return true.\n",
    "    count += len(list(filter(\n",
    "        # This lambda function is used by the filter to iterate through all\n",
    "        # lines created by the points within the points list and to check if\n",
    "        # the intersection with the horizontal line y is within bounds.\n",
    "        # If it is, the point is kept within the array.\n",
    "        lambda i: in_bounds(\n",
    "            target[0],\n",
    "            intersection(points[i], points[(i + 1) % len(points)], target[1]),\n",
    "            max_x),\n",
    "        range(len(points))\n",
    "    )))\n",
    "\n",
    "    return count % 2 == 1"
   ],
   "metadata": {
    "collapsed": false,
    "ExecuteTime": {
     "end_time": "2024-02-12T03:12:11.423199200Z",
     "start_time": "2024-02-12T03:12:11.391928200Z"
    }
   },
   "id": "ed3ea9ed6b32b39b"
  },
  {
   "cell_type": "markdown",
   "source": [
    "### Asymptotic Analysis of the worst-case run-time of your algorithm\n",
    "<Placeholder: Asymptotic Analysis of the worst-case run-time of your algorithm>\n",
    "\n",
    "### Test Cases:\n",
    "<Placeholder: A table of your test cases. For each describe the input, the answer you would expect to get, and the actual answer>\n",
    "The input domain can be partitioned in a few ways which can be more easily seen in graph from below:\n",
    "<img src=\"./Test Case Analysis.png\" width=\"500\">\n",
    "There are 5 partitions within the input domain. These are: \n",
    " - Green: Above the maximum y value of the polygon\n",
    " - Red: Left of the minimum x value of the polygon\n",
    " - White: Inside the polygon\n",
    " - Blue: Right of the maximum x value of the polygon\n",
    " - Purple: Below the minimum y value of the polygon\n",
    "\n",
    "There are also 8 points on the boundaries of the partitions which also must be tested. These can be seen as the black points in the image above.\n",
    "\n",
    "All test cases provide the distinct point and are all tested against a square for convenience.\n",
    "The points that make up the square are: (2, 2), (2, 4), (4,4), (4, 2)\n",
    "\n",
    "| Title                | Description | Expected Answer | Actual Answer |\n",
    "|:---------------------|:------------|:----------------|:--------------|\n",
    "| Above of the Polygon | (3, 5)      | False           |               |\n",
    "| Left of the Polygon  | (1, 3)      | False           |               |\n",
    "| In the Polygon       | (3, 3)      | True            |               |\n",
    "| Right of the Polygon | (5, 3)      | False           |               |\n",
    "| Below the Polygon    | (3, 1)      | False           |               |\n",
    "| On top boundary      | B           | False           |               |\n",
    "| On left boundary     | B           | False           |               |\n",
    "| On right boundary    | B           | False           |               |\n",
    "| On bottom boundary   | B           | False           |               |\n",
    "\n"
   ],
   "metadata": {
    "collapsed": false
   },
   "id": "feb06a461e571064"
  },
  {
   "cell_type": "code",
   "execution_count": 34,
   "outputs": [
    {
     "name": "stdout",
     "output_type": "stream",
     "text": [
      "(3, 5)\t->\tExpected:\tFalse\tActual: \tTrue\n",
      "(1, 3)\t->\tExpected:\tFalse\tActual: \tFalse\n",
      "(3, 3)\t->\tExpected:\tTrue\tActual: \tTrue\n",
      "(5, 3)\t->\tExpected:\tFalse\tActual: \tFalse\n",
      "(3, 1)\t->\tExpected:\tFalse\tActual: \tTrue\n"
     ]
    }
   ],
   "source": [
    "test_polygon = [(2, 2), (2, 4), (4, 4), (4, 2)]\n",
    "test_cases = [\n",
    "    {\"Point\": (3, 5), \"Expected\": False},\n",
    "    {\"Point\": (1, 3), \"Expected\": False},\n",
    "    {\"Point\": (3, 3), \"Expected\": True},\n",
    "    {\"Point\": (5, 3), \"Expected\": False},\n",
    "    {\"Point\": (3, 1), \"Expected\": False},\n",
    "]\n",
    "\n",
    "for t in test_cases:\n",
    "    print(t[\"Point\"], \"->\", \"Expected:\", t[\"Expected\"], \"Actual: \", in_polygon(test_polygon, t[\"Point\"]), sep=\"\\t\")"
   ],
   "metadata": {
    "collapsed": false,
    "ExecuteTime": {
     "end_time": "2024-02-12T03:38:01.860681700Z",
     "start_time": "2024-02-12T03:38:01.824277Z"
    }
   },
   "id": "68fe2e1bba6a8dc4"
  },
  {
   "cell_type": "markdown",
   "source": [
    "### Benchmarking:\n",
    "<Placeholder: A table and graph from benchmarking your implementation on problem instances of different sizes\n",
    "\n",
    "### Theory vs Actuality\n",
    "<Placeholder: A paragraph comparing your benchmarking results to your theoretical asymptotic run-time.> \n",
    "<Placeholder: This should include an explanation of whether your results support your theoretically-derived run-time.>"
   ],
   "metadata": {
    "collapsed": false
   },
   "id": "67e4e3d228756704"
  },
  {
   "cell_type": "code",
   "execution_count": 29,
   "id": "3e114cd7-dfc4-4b7f-87b0-afb56b13969f",
   "metadata": {
    "ExecuteTime": {
     "end_time": "2024-02-12T03:22:04.828857500Z",
     "start_time": "2024-02-12T03:22:04.634608900Z"
    }
   },
   "outputs": [
    {
     "name": "stdout",
     "output_type": "stream",
     "text": [
      "True\n"
     ]
    },
    {
     "data": {
      "text/plain": "<Figure size 640x480 with 1 Axes>",
      "image/png": "[encoded data removed]"
     },
     "metadata": {},
     "output_type": "display_data"
    },
    {
     "name": "stdout",
     "output_type": "stream",
     "text": [
      "True\n"
     ]
    }
   ],
   "source": [
    "import matplotlib.pyplot as plt\n",
    "from matplotlib.patches import Polygon\n",
    "\n",
    "\n",
    "def point_inside_polygon(x, y, poly):\n",
    "    # throw out point immediately\n",
    "\n",
    "    n = len(poly)  # n = number of vertices\n",
    "    inside = False\n",
    "    p1x, p1y = poly[0]  # poly is an array of tuples, representing (x, y) points\n",
    "    for i in range(n + 1):  # number of pairs + (last, first)\n",
    "        p2x, p2y = poly[i % n]  # p2 will be poly[0] when i = len\n",
    "        if y > min(p1y, p2y) and y <= max(p1y, p2y):  # if we're in the y bound   \n",
    "            if x <= max(p1x, p2x):  # if we're between x = 0 and the maximum x bound\n",
    "                if p1y != p2y:  # otherwise, we have a line with the same height, not going to intersect\n",
    "                    xinters = (y - p1y) * (p2x - p1x) / (p2y - p1y) + p1x  # x intercept = this equation\n",
    "                    if p1x == p2x or x <= xinters:\n",
    "                        inside = not inside\n",
    "        p1x, p1y = p2x, p2y\n",
    "\n",
    "\n",
    "    return inside\n",
    "\n",
    "\n",
    "polygon = [(1, 1), (2, 3), (3, 1)]\n",
    "point = (2, 2)\n",
    "print(point_inside_polygon(point[0], point[1], polygon))  # inside: True\n",
    "plot(polygon, point)\n",
    "print(in_polygon(polygon, point))  # inside: True\n"
   ]
  },
  {
   "cell_type": "code",
   "execution_count": null,
   "outputs": [],
   "source": [],
   "metadata": {
    "collapsed": false
   },
   "id": "a12268be41725814"
  }
 ],
 "metadata": {
  "kernelspec": {
   "display_name": "Python 3 (ipykernel)",
   "language": "python",
   "name": "python3"
  },
  "language_info": {
   "codemirror_mode": {
    "name": "ipython",
    "version": 3
   },
   "file_extension": ".py",
   "mimetype": "text/x-python",
   "name": "python",
   "nbconvert_exporter": "python",
   "pygments_lexer": "ipython3",
   "version": "3.11.6"
  }
 },
 "nbformat": 4,
 "nbformat_minor": 5
}
