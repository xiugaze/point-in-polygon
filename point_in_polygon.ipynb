{
 "cells": [
  {
   "cell_type": "markdown",
   "id": "66445c5f-f792-443f-a618-633f31566916",
   "metadata": {},
   "source": [
    "# Point in Polygon\n",
    "## Damien Allison, Drew Mattson, Caleb Andreano\n",
    "\n",
    "### Computational Problem:\n",
    "Given a series of two-dimensional points whose composition creates a simple polygon, determine if a distinct point is within the polygon.\n",
    "\n",
    "### Decision Rule:\n",
    "The decision rule used to determine whether a given point is the following: given a line from the target point parallel to the $x$ axis in the positive $x$ direction, if the number of intersections between the line and the edges of the polgon as defined by the given vertices is odd, the point is in the polygon. Otherwise, the point is not in the polygon. This decision rule is augmented by the following clauses:\n",
    "- If the target point is outside of the range of the given vertices (if it is not in between the minimum and maximum $y$ bounds), then the point is outside the polygon.\n",
    "- If the $x$ position of the point is not in the domain of the given verticies (if it is not between the minumum and maximum $x$ bounds), the point is outside the polygon.  \n",
    "\n",
    "For example: \n",
    "- Given polygon is `[(1, 1), (1, 3), (3, 3), (3, 1)]`. Target point is `(2, 2)`. The $y$ range is $(1, 3)$ and the minumum $x$ is $1$. Since the point is not outside of these bounds, continue. Casting a ray to the right from `(2, 2)`, we see one intersection. So, the point is in the polygon.\n",
    "- Given polygon is `[(1, 1), (1, 3), (3, 3), (3, 1)]`. Target point is `(4, 2)`. The $y$ range is $(1, 3)$ and the minimum $x$ is $1$. Since the point is not outside of these bounds, continue. Casting a ray to the right from `(4, 2)`, we see zero intersections. So, the point is not in the polygon.\n",
    "\n",
    "### Pseudocode:\n",
    "```\n",
    "let max_x = max(vertice1.x, vertice2.x)\n",
    "let min_y, max_y = min(vertice1.x, vertice2.x), max(vertice1.x, vertice2.x)\n",
    "\n",
    "if point.x < max_x and min_y < point.y < max_y do:\n",
    "    num_intersections = 0;\n",
    "    for (vertice1, vertice2) in vertices.pairs() do:\n",
    "        if intersection(point.y, vertice1, vertice2):\n",
    "            num_intersections += 1\n",
    "        end if\n",
    "    end for\n",
    "\n",
    "    return num_intersections % 2 == 1;\n",
    "else do:\n",
    "    return false;\n",
    "end if\n",
    "```\n",
    "\n",
    "### Justification:\n",
    "\n",
    "The algorithm relies on the principle that when casting a horizontal ray from the point, if the ray intersects the polygon an odd number of times, it is inside the polygon, and if does not intersect or it intersects and even number of times, the point is outside the polygon. While this is an intuitive principle, the proof is not trivial and requires homology theory to generalize and show. However, this principle is proven by the Jordan curve theorem, which states:\n",
    "\n",
    "\"If the initial point $p_a$ of a ray lies outside a simple polygon $A$, the number of intersections of the ray and the polygon is even. If the inital point $p_b$ of a ray lies outside the polygon, the number of intersections is odd\". (Wikipedia)\n",
    "\n",
    "Our algorithm correctly implements this principle, as it computes the intersection between the horizontal ray with the target point as the origin and the intersection between the edge created by each pair of vertices using the following formula:\n",
    "\n",
    "$$\n",
    "i_x = \\frac{(y-y_0)(x_1 - x_0) - x_0(y_1-y_0)}{y_0 - y_1}\n",
    "$$\n",
    "where\n",
    "- $i_x$ is the $x$ coordinate of the intercept,\n",
    "- $x,~y$ are the $x$ and $y$ coordinates of the target point,\n",
    "- $x_0,~y_0$ are the coordinates of the first vertice\n",
    "- $y_0,~y_1$ are the coordinates of the second vertice\n",
    "\n",
    "The algorithm is guaranteed to halt because the loop iterates through all pairs. Since there is a finite number of pairs, the loop will stop once every pair has been used. "
   ]
  },
  {
   "cell_type": "code",
   "execution_count": 10,
   "id": "a68c3987-19f6-4df4-b5e5-e6917e4e105c",
   "metadata": {
    "ExecuteTime": {
     "end_time": "2024-02-14T22:50:43.308389200Z",
     "start_time": "2024-02-14T22:50:43.285786200Z"
    },
    "collapsed": false,
    "jupyter": {
     "outputs_hidden": false
    }
   },
   "outputs": [],
   "source": [
    "from matplotlib import pyplot as plt\n",
    "\n",
    "\n",
    "def plot(poly, point):\n",
    "    x, y = point\n",
    "    fig, ax = plt.subplots()\n",
    "    ax.set_xlim(min(poly, key=lambda p: p[0])[0] - 1, max(poly, key=lambda p: p[0])[0] + 1)\n",
    "    ax.set_ylim(min(poly, key=lambda p: p[1])[1] - 1, max(poly, key=lambda p: p[1])[1] + 1)\n",
    "    ax.add_patch(Polygon(poly, closed=True, fill=False, color='g', linewidth=2))\n",
    "    plt.plot(x, y, 'ro', label=f'{x}, {y}')\n",
    "    plt.xlabel('X')\n",
    "    plt.ylabel('Y')\n",
    "    plt.title(f'Polygon with point ({x}, {y})')\n",
    "    plt.legend()\n",
    "    plt.grid(True)\n",
    "    plt.show()"
   ]
  },
  {
   "cell_type": "code",
   "execution_count": 1,
   "id": "ed3ea9ed6b32b39b",
   "metadata": {
    "ExecuteTime": {
     "end_time": "2024-02-14T22:50:43.341673100Z",
     "start_time": "2024-02-14T22:50:43.299248700Z"
    },
    "collapsed": false,
    "jupyter": {
     "outputs_hidden": false
    }
   },
   "outputs": [],
   "source": [
    "import math\n",
    "\n",
    "\n",
    "# The intersection function returns the point of intersection between the\n",
    "# line that is made from p1 and p0 and the horizontal line y.\n",
    "def intersection(p1, p0, y):\n",
    "    return math.nan \\\n",
    "        if p1[1] - p0[1] == 0 \\\n",
    "        else ((y - p0[1]) * (p1[0] - p0[0]) - p0[0] * (p1[1] - p0[1])) / (p0[1] - p1[1])\n",
    "\n",
    "\n",
    "# The in_bounds function returns true if the x value of the intersection is\n",
    "# within the min, being the target x, and max bounds.\n",
    "def in_bounds(target_x, intersect_x, max_x):\n",
    "    return not math.isnan(intersect_x) and target_x is not max_x and target_x <= intersect_x <= max_x\n",
    "\n",
    "\n",
    "# The in_polygon function determines if a point is inside a polygon made of other points.\n",
    "def in_polygon(points, target):\n",
    "    # Finds the bounds that the intersections must be made in.\n",
    "    max_y = min_y = points[0][1]\n",
    "    max_x = points[0][0]\n",
    "    for x, y in points:\n",
    "        min_y, max_y, max_x = min(min_y, y), max(max_y, y), max(max_x, x)\n",
    "\n",
    "    # If the target point is beyond the bounds of the polygon (above or below),\n",
    "    # the point is certainly not in the polygon\n",
    "    return (min_y < target[1] < max_y and\n",
    "    # A point is within the polygon if the number of intersections\n",
    "    # within the bounds is an odd number. This is accomplished by iterating\n",
    "    # through the points list and adding one to a sum if the intersection occurs\n",
    "    # within the bounds.\n",
    "            sum(1 for i in range(len(points)) if in_bounds(target[0],intersection(points[i], points[(i + 1) % len(points)], target[1]),\n",
    "                max_x\n",
    "            )) % 2 == 1)"
   ]
  },
  {
   "cell_type": "markdown",
   "id": "feb06a461e571064",
   "metadata": {
    "collapsed": false,
    "jupyter": {
     "outputs_hidden": false
    }
   },
   "source": [
    "### Asymptotic Analysis of the worst-case run-time of your algorithm\n",
    "\n",
    "The worst-case run time occurs when the distinct point is within the vertical bounds of the polygon. When this occurs, not only are the bounds of the polygon are found, but the algorithm must also calculate the intersections of each line with y = Y, where Y is the y value of the target. This is done in Θ(2n) time or simply Θ(n) time.\n",
    "\n",
    "### Test Cases:\n",
    "The input domain can be partitioned in a few ways which can be more easily seen in graph from below:\n",
    "<brk/>\n",
    "<img src=\"./Test Case Analysis.png\" width=\"500\">\n",
    "There are 5 partitions within the input domain. These are: \n",
    " - Green: Above the maximum y value of the polygon\n",
    " - Red: Left of the minimum x value of the polygon\n",
    " - White: Inside the polygon\n",
    " - Blue: Right of the maximum x value of the polygon\n",
    " - Purple: Below the minimum y value of the polygon\n",
    "\n",
    "There are also 8 points on the boundaries of the partitions which also must be tested. These can be seen as the black points in the image above.\n",
    "\n",
    "All test cases provide the distinct point and are all tested against a square for convenience.\n",
    "The points that make up the square are: (2, 2), (2, 4), (4,4), (4, 2)\n",
    "\n",
    "| Title                                   | Description | Expected Answer | Actual Answer |\n",
    "|:----------------------------------------|:------------|:----------------|:--------------|\n",
    "| In the Polygon                          | (3, 3)      | True            | True          |\n",
    "| Above the Polygon                       | (3, 5)      | False           | False         |\n",
    "| Left of the Polygon                     | (1, 3)      | False           | False         |\n",
    "| Right of the Polygon                    | (5, 3)      | False           | False         |\n",
    "| Below the Polygon                       | (3, 1)      | False           | False         |\n",
    "| On top boundary                         | (3, 4)      | False           | False         |\n",
    "| On left boundary                        | (2, 3)      | False           | False         |\n",
    "| On right boundary                       | (4, 3)      | False           | False         |\n",
    "| On bottom boundary                      | (3, 2)      | False           | False         |\n",
    "| In line & left of <br/>bottom boundary  | (1, 2)      | False           | False         |\n",
    "| In line & right of <br/>bottom boundary | (5, 2)      | False           | False         |\n",
    "| In line & left of <br/>top boundary     | (1, 4)      | False           | False         |\n",
    "| In line & right of <br/>top boundary    | (5, 4)      | False           | False         |\n",
    "\n"
   ]
  },
  {
   "cell_type": "code",
   "execution_count": 12,
   "id": "68fe2e1bba6a8dc4",
   "metadata": {
    "ExecuteTime": {
     "end_time": "2024-02-14T22:50:43.352994500Z",
     "start_time": "2024-02-14T22:50:43.326563500Z"
    },
    "collapsed": false,
    "jupyter": {
     "outputs_hidden": false
    }
   },
   "outputs": [
    {
     "name": "stdout",
     "output_type": "stream",
     "text": [
      "Passed: 13/13\n"
     ]
    }
   ],
   "source": [
    "test_polygon = [(2, 2), (2, 4), (4, 4), (4, 2)]\n",
    "test_cases = [\n",
    "    {\"Point\": (3, 3), \"Expected\": True},  # In the polygon\n",
    "\n",
    "    {\"Point\": (3, 5), \"Expected\": False},  # Above the polygon\n",
    "    {\"Point\": (1, 3), \"Expected\": False},  # Left of the polygon\n",
    "    {\"Point\": (5, 3), \"Expected\": False},  # Right of the polygon\n",
    "    {\"Point\": (3, 1), \"Expected\": False},  # Below the polygon\n",
    "\n",
    "    {\"Point\": (3, 4), \"Expected\": False},  # On top boundary\n",
    "    {\"Point\": (2, 3), \"Expected\": False},  # On left boundary\n",
    "    {\"Point\": (4, 3), \"Expected\": False},  # On right boundary\n",
    "    {\"Point\": (3, 2), \"Expected\": False},  # On bottom boundary\n",
    "\n",
    "    {\"Point\": (1, 2), \"Expected\": False},  # In line & left of bottom boundary\n",
    "    {\"Point\": (5, 2), \"Expected\": False},  # In line & right of bottom boundary\n",
    "    {\"Point\": (1, 4), \"Expected\": False},  # In line & left of top boundary\n",
    "    {\"Point\": (5, 4), \"Expected\": False},  # In line & right of top boundary\n",
    "]\n",
    "\n",
    "failed_tests = list(filter(\n",
    "    lambda i: test_cases[i][\"Expected\"] is not in_polygon(test_polygon, test_cases[i][\"Point\"]),\n",
    "    range(len(test_cases))\n",
    "))\n",
    "\n",
    "passed = len(test_cases) - len(failed_tests)\n",
    "print(\"Passed:\", str(passed) + \"/\" + str(len(test_cases)))\n",
    "\n",
    "if failed_tests:\n",
    "    print(\"(X, Y)\\t->\\tExpected\\t|\\tActual\")\n",
    "    print(\"-----------------------------------\")\n",
    "\n",
    "    for t in failed_tests:\n",
    "        point = test_cases[t][\"Point\"]\n",
    "        expected = test_cases[t][\"Expected\"]\n",
    "        actual = in_polygon(test_polygon, point)\n",
    "        print(f\"{point}\\t->\\t{expected}\\t\\t|\\t{actual}\")\n"
   ]
  },
  {
   "cell_type": "markdown",
   "id": "67e4e3d228756704",
   "metadata": {
    "collapsed": false,
    "jupyter": {
     "outputs_hidden": false
    }
   },
   "source": [
    "### Benchmarking:\n",
    "<Placeholder: A table and graph from benchmarking your implementation on problem instances of different sizes\n",
    "\n",
    "### Theory vs Actuality\n",
    "<Placeholder: A paragraph comparing your benchmarking results to your theoretical asymptotic run-time.> \n",
    "<Placeholder: This should include an explanation of whether your results support your theoretically-derived run-time.>"
   ]
  },
  {
   "cell_type": "code",
   "execution_count": 12,
   "id": "a12268be41725814",
   "metadata": {
    "ExecuteTime": {
     "end_time": "2024-02-14T22:50:43.353899700Z",
     "start_time": "2024-02-14T22:50:43.339672500Z"
    },
    "collapsed": false,
    "jupyter": {
     "outputs_hidden": false
    }
   },
   "outputs": [],
   "source": []
  }
 ],
 "metadata": {
  "kernelspec": {
   "display_name": "Python 3 (ipykernel)",
   "language": "python",
   "name": "python3"
  },
  "language_info": {
   "codemirror_mode": {
    "name": "ipython",
    "version": 3
   },
   "file_extension": ".py",
   "mimetype": "text/x-python",
   "name": "python",
   "nbconvert_exporter": "python",
   "pygments_lexer": "ipython3",
   "version": "3.11.6"
  }
 },
 "nbformat": 4,
 "nbformat_minor": 5
}
