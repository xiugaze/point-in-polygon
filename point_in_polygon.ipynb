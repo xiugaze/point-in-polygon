{
 "cells": [
  {
   "cell_type": "markdown",
   "id": "36c09911-4f29-4bb4-a230-75ce11b9902d",
   "metadata": {},
   "source": [
    "# Point in Polygon\n",
    "## Damien Allison, Drew Mattson, Caleb Andreano\n",
    "\n",
    "### Computational Problem:\n",
    "Given a series of two-dimensional points whose composition creates a simple polygon, determine if a distinct point is within the polygon.\n",
    "\n",
    "### Decision Rule:\n",
    "<Placeholder: A one-paragraph description of a \"decision rule\" that can be applied to solve the problem.>\n",
    "<Placeholder: Provide at least two examples illustrating how the rule is applied>\n",
    "\n",
    "### Pseudocode:\n",
    "<Placeholder: High-level pseudocode for an algorithm that uses your rule to solve the computational problem for all inputs>\n",
    "\n",
    "### Justification:\n",
    "<Placeholder: A 1-3 paragraph justification of why your algorithm is correct.>"
   ]
  },
  {
   "cell_type": "code",
   "execution_count": 4,
   "outputs": [],
   "source": [
    "from matplotlib import pyplot as plt\n",
    "\n",
    "\n",
    "def plot(poly, point):\n",
    "    x, y = point\n",
    "    fig, ax = plt.subplots()\n",
    "    ax.set_xlim(min(poly, key=lambda p: p[0])[0] - 1, max(poly, key=lambda p: p[0])[0] + 1)\n",
    "    ax.set_ylim(min(poly, key=lambda p: p[1])[1] - 1, max(poly, key=lambda p: p[1])[1] + 1)\n",
    "    ax.add_patch(Polygon(poly, closed=True, fill=False, color='g', linewidth=2))\n",
    "    plt.plot(x, y, 'ro', label=f'{x}, {y}')\n",
    "    plt.xlabel('X')\n",
    "    plt.ylabel('Y')\n",
    "    plt.title(f'Polygon with point ({x}, {y})')\n",
    "    plt.legend()\n",
    "    plt.grid(True)\n",
    "    plt.show()"
   ],
   "metadata": {
    "collapsed": false,
    "ExecuteTime": {
     "end_time": "2024-02-14T22:42:03.036044400Z",
     "start_time": "2024-02-14T22:42:02.990967700Z"
    }
   },
   "id": "8b4254ff484a103"
  },
  {
   "cell_type": "code",
   "execution_count": 5,
   "outputs": [],
   "source": [
    "import math\n",
    "\n",
    "\n",
    "# The intersection function returns the point of intersection between the\n",
    "# line that is made from p1 and p0 and the horizontal line y.\n",
    "def intersection(p1, p0, y):\n",
    "    return math.nan \\\n",
    "        if p1[1] - p0[1] == 0 \\\n",
    "        else (y * (p1[0] - p0[0]) - p0[1] * (p1[0] - p0[0]) - p0[0] * (p1[1] - p0[1])) / (p0[1] - p1[1])\n",
    "\n",
    "\n",
    "# The in_bounds function returns true if the x value of the intersection is\n",
    "# within the min, being the target x, and max bounds.\n",
    "def in_bounds(target_x, intersect_x, max_x):\n",
    "    return not math.isnan(intersect_x) and target_x is not max_x and target_x <= intersect_x <= max_x\n",
    "\n",
    "\n",
    "# The in_polygon function determines if a point is inside a polygon made of other points.\n",
    "def in_polygon(points, target):\n",
    "    # Finds the bounds that the intersections must be made in.\n",
    "    max_y = min_y = points[0][1]\n",
    "    max_x = points[0][0]\n",
    "    for x, y in points:\n",
    "        min_y, max_y, max_x = min(min_y, y), max(max_y, y), max(max_x, x)\n",
    "\n",
    "    # If the target point is beyond the bounds of the polygon (above or below),\n",
    "    # the point is certainly not in the polygon\n",
    "    return (min_y < target[1] < max_y and\n",
    "    # A point is within the polygon if the number of intersections\n",
    "    # within the bounds is an odd number. This is accomplished by iterating\n",
    "    # through the points list and adding one to a sum if the intersection occurs\n",
    "    # within the bounds.\n",
    "            sum(1 for i in range(len(points)) if in_bounds(\n",
    "                target[0],\n",
    "                intersection(points[i], points[(i + 1) % len(points)], target[1]),\n",
    "                max_x\n",
    "            )) % 2 == 1)"
   ],
   "metadata": {
    "collapsed": false,
    "ExecuteTime": {
     "end_time": "2024-02-14T22:42:03.075993400Z",
     "start_time": "2024-02-14T22:42:03.001532100Z"
    }
   },
   "id": "ed3ea9ed6b32b39b"
  },
  {
   "cell_type": "markdown",
   "source": [
    "### Asymptotic Analysis of the worst-case run-time of your algorithm\n",
    "\n",
    "The worst-case run time occurs when the distinct point is within the vertical bounds of the polygon. When this occurs, not only are the bounds of the polygon are found, but the algorithm must also calculate the intersections of each line with y = Y, where Y is the y value of the target. This is done in Θ(2n) time or simply Θ(n) time.\n",
    "\n",
    "### Test Cases:\n",
    "The input domain can be partitioned in a few ways which can be more easily seen in graph from below:\n",
    "<brk/>\n",
    "<img src=\"./Test Case Analysis.png\" width=\"500\">\n",
    "There are 5 partitions within the input domain. These are: \n",
    " - Green: Above the maximum y value of the polygon\n",
    " - Red: Left of the minimum x value of the polygon\n",
    " - White: Inside the polygon\n",
    " - Blue: Right of the maximum x value of the polygon\n",
    " - Purple: Below the minimum y value of the polygon\n",
    "\n",
    "There are also 8 points on the boundaries of the partitions which also must be tested. These can be seen as the black points in the image above.\n",
    "\n",
    "All test cases provide the distinct point and are all tested against a square for convenience.\n",
    "The points that make up the square are: (2, 2), (2, 4), (4,4), (4, 2)\n",
    "\n",
    "| Title                                   | Description | Expected Answer | Actual Answer |\n",
    "|:----------------------------------------|:------------|:----------------|:--------------|\n",
    "| In the Polygon                          | (3, 3)      | True            | True          |\n",
    "| Above the Polygon                       | (3, 5)      | False           | False         |\n",
    "| Left of the Polygon                     | (1, 3)      | False           | False         |\n",
    "| Right of the Polygon                    | (5, 3)      | False           | False         |\n",
    "| Below the Polygon                       | (3, 1)      | False           | False         |\n",
    "| On top boundary                         | (3, 4)      | False           | False         |\n",
    "| On left boundary                        | (2, 3)      | False           | False         |\n",
    "| On right boundary                       | (4, 3)      | False           | False         |\n",
    "| On bottom boundary                      | (3, 2)      | False           | False         |\n",
    "| In line & left of <br/>bottom boundary  | (1, 2)      | False           | False         |\n",
    "| In line & right of <br/>bottom boundary | (5, 2)      | False           | False         |\n",
    "| In line & left of <br/>top boundary     | (1, 4)      | False           | False         |\n",
    "| In line & right of <br/>top boundary    | (5, 4)      | False           | False         |\n",
    "\n"
   ],
   "metadata": {
    "collapsed": false
   },
   "id": "feb06a461e571064"
  },
  {
   "cell_type": "code",
   "execution_count": 6,
   "outputs": [
    {
     "name": "stdout",
     "output_type": "stream",
     "text": [
      "Passed: 13/13\n"
     ]
    }
   ],
   "source": [
    "test_polygon = [(2, 2), (2, 4), (4, 4), (4, 2)]\n",
    "test_cases = [\n",
    "    {\"Point\": (3, 3), \"Expected\": True},  # In the polygon\n",
    "\n",
    "    {\"Point\": (3, 5), \"Expected\": False},  # Above the polygon\n",
    "    {\"Point\": (1, 3), \"Expected\": False},  # Left of the polygon\n",
    "    {\"Point\": (5, 3), \"Expected\": False},  # Right of the polygon\n",
    "    {\"Point\": (3, 1), \"Expected\": False},  # Below the polygon\n",
    "\n",
    "    {\"Point\": (3, 4), \"Expected\": False},  # On top boundary\n",
    "    {\"Point\": (2, 3), \"Expected\": False},  # On left boundary\n",
    "    {\"Point\": (4, 3), \"Expected\": False},  # On right boundary\n",
    "    {\"Point\": (3, 2), \"Expected\": False},  # On bottom boundary\n",
    "\n",
    "    {\"Point\": (1, 2), \"Expected\": False},  # In line & left of bottom boundary\n",
    "    {\"Point\": (5, 2), \"Expected\": False},  # In line & right of bottom boundary\n",
    "    {\"Point\": (1, 4), \"Expected\": False},  # In line & left of top boundary\n",
    "    {\"Point\": (5, 4), \"Expected\": False},  # In line & right of top boundary\n",
    "]\n",
    "\n",
    "failed_tests = list(filter(\n",
    "    lambda i: test_cases[i][\"Expected\"] is not in_polygon(test_polygon, test_cases[i][\"Point\"]),\n",
    "    range(len(test_cases))\n",
    "))\n",
    "\n",
    "passed = len(test_cases) - len(failed_tests)\n",
    "print(\"Passed:\", str(passed) + \"/\" + str(len(test_cases)))\n",
    "\n",
    "if failed_tests:\n",
    "    print(\"(X, Y)\\t->\\tExpected\\t|\\tActual\")\n",
    "    print(\"-----------------------------------\")\n",
    "\n",
    "    for t in failed_tests:\n",
    "        point = test_cases[t][\"Point\"]\n",
    "        expected = test_cases[t][\"Expected\"]\n",
    "        actual = in_polygon(test_polygon, point)\n",
    "        print(f\"{point}\\t->\\t{expected}\\t\\t|\\t{actual}\")\n"
   ],
   "metadata": {
    "collapsed": false,
    "ExecuteTime": {
     "end_time": "2024-02-14T22:42:03.087543600Z",
     "start_time": "2024-02-14T22:42:03.028073100Z"
    }
   },
   "id": "68fe2e1bba6a8dc4"
  },
  {
   "cell_type": "markdown",
   "source": [
    "### Benchmarking:\n",
    "<Placeholder: A table and graph from benchmarking your implementation on problem instances of different sizes\n",
    "\n",
    "### Theory vs Actuality\n",
    "<Placeholder: A paragraph comparing your benchmarking results to your theoretical asymptotic run-time.> \n",
    "<Placeholder: This should include an explanation of whether your results support your theoretically-derived run-time.>"
   ],
   "metadata": {
    "collapsed": false
   },
   "id": "67e4e3d228756704"
  },
  {
   "cell_type": "code",
   "execution_count": 6,
   "outputs": [],
   "source": [],
   "metadata": {
    "collapsed": false,
    "ExecuteTime": {
     "end_time": "2024-02-14T22:42:03.088542600Z",
     "start_time": "2024-02-14T22:42:03.045498800Z"
    }
   },
   "id": "a12268be41725814"
  }
 ],
 "metadata": {
  "kernelspec": {
   "display_name": "Python 3 (ipykernel)",
   "language": "python",
   "name": "python3"
  },
  "language_info": {
   "codemirror_mode": {
    "name": "ipython",
    "version": 3
   },
   "file_extension": ".py",
   "mimetype": "text/x-python",
   "name": "python",
   "nbconvert_exporter": "python",
   "pygments_lexer": "ipython3",
   "version": "3.11.6"
  }
 },
 "nbformat": 4,
 "nbformat_minor": 5
}
